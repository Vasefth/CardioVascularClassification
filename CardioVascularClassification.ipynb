{
  "nbformat": 4,
  "nbformat_minor": 0,
  "metadata": {
    "colab": {
      "provenance": []
    },
    "kernelspec": {
      "name": "python3",
      "display_name": "Python 3"
    },
    "language_info": {
      "name": "python"
    }
  },
  "cells": [
    {
      "cell_type": "code",
      "execution_count": null,
      "metadata": {
        "id": "5biGxfIVKQsk"
      },
      "outputs": [],
      "source": [
        "import pandas as pd\n",
        "from sklearn.preprocessing import StandardScaler, LabelEncoder\n",
        "from sklearn.model_selection import train_test_split\n",
        "from collections import Counter\n",
        "from sklearn.compose import ColumnTransformer\n",
        "from tensorflow.keras.models import Sequential\n",
        "from tensorflow.keras.layers import Dense, InputLayer\n",
        "from sklearn.metrics import classification_report\n",
        "from tensorflow.keras.utils import to_categorical\n",
        "import numpy as np\n",
        "\n",
        "data = pd.read_csv(\"heart_failure.csv\")\n",
        "print(data.info())\n",
        "print(Counter(data['death_event']))\n",
        "y = data['death_event']\n",
        "x = data[['age','anaemia','creatinine_phosphokinase','diabetes','ejection_fraction','high_blood_pressure','platelets','serum_creatinine','serum_sodium','sex','smoking','time']]\n",
        "\n",
        "x = pd.get_dummies(x)\n",
        "X_train, X_test, Y_train, Y_test = train_test_split(x, y, test_size = 0.3, random_state = 42)\n",
        "\n",
        "ct = ColumnTransformer([(\"numeric\", StandardScaler(), ['age','creatinine_phosphokinase','ejection_fraction','platelets','serum_creatinine','serum_sodium','time'])])\n",
        "X_train = ct.fit_transform(X_train)\n",
        "X_test = ct.transform(X_test)\n",
        "\n",
        "le = LabelEncoder()\n",
        "Y_train = le.fit_transform(Y_train.astype(str))\n",
        "Y_test = le.transform(Y_test.astype(str))\n",
        "Y_train = to_categorical(Y_train, dtype = 'int64')\n",
        "Y_test = to_categorical(Y_test, dtype = 'int64')\n",
        "\n",
        "model = Sequential()\n",
        "model.add(InputLayer(input_shape=(X_train.shape[1],)))\n",
        "model.add(Dense(12, activation = 'relu'))\n",
        "model.add(Dense(2, activation = 'softmax'))\n",
        "model.compile(loss = 'categorical_crossentropy', optimizer = 'adam', metrics = ['accuracy'])\n",
        "\n",
        "model.fit(X_train, Y_train, epochs = 100, batch_size = 16, verbose = 1)\n",
        "loss, acc = model.evaluate(X_test, Y_test, verbose = 0)\n",
        "\n",
        "y_estimate = model.predict(X_test)\n",
        "y_estimate = np.argmax(y_estimate, axis = 1)\n",
        "y_true = np.argmax(Y_test, axis = 1)\n",
        "print(classification_report(y_true, y_estimate))\n",
        "\n"
      ]
    }
  ]
}